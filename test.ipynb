{
 "cells": [
  {
   "cell_type": "code",
   "execution_count": 3,
   "metadata": {},
   "outputs": [],
   "source": [
    "import numpy as np\n",
    "from time import time\n",
    "\n",
    "from solve import *\n",
    "from solvers.util import *"
   ]
  },
  {
   "cell_type": "code",
   "execution_count": 2,
   "metadata": {},
   "outputs": [
    {
     "name": "stdout",
     "output_type": "stream",
     "text": [
      "0  0  0     0  0  0     0  0  0     \n",
      "0  0  3     6  0  0     0  0  0     \n",
      "0  7  0     0  9  0     2  0  0     \n",
      "\n",
      "0  5  0     0  0  7     0  0  0     \n",
      "0  0  0     0  4  5     7  0  0     \n",
      "0  0  0     1  0  0     0  3  0     \n",
      "\n",
      "0  0  1     0  0  0     0  6  8     \n",
      "0  0  8     5  0  0     0  1  0     \n",
      "0  9  0     0  0  0     4  0  0     \n",
      "\n",
      "\n"
     ]
    }
   ],
   "source": [
    "test_board = string_to_board('000000000003600000070090200050007000000045700000100030001000068008500010090000400')\n",
    "display_board(test_board)"
   ]
  },
  {
   "cell_type": "code",
   "execution_count": 4,
   "metadata": {},
   "outputs": [
    {
     "name": "stdout",
     "output_type": "stream",
     "text": [
      "|          Method           |   Avg Time    |\n",
      "---------------------------------------------\n"
     ]
    },
    {
     "ename": "TypeError",
     "evalue": "'module' object is not callable",
     "output_type": "error",
     "traceback": [
      "\u001b[0;31m---------------------------------------------------------------------------\u001b[0m",
      "\u001b[0;31mTypeError\u001b[0m                                 Traceback (most recent call last)",
      "\u001b[1;32m/Users/wesleyyuan/Documents/Fun With Coding/SudokuSolver/test.ipynb Cell 3'\u001b[0m in \u001b[0;36m<cell line: 3>\u001b[0;34m()\u001b[0m\n\u001b[1;32m      <a href='vscode-notebook-cell:/Users/wesleyyuan/Documents/Fun%20With%20Coding/SudokuSolver/test.ipynb#ch0000002?line=5'>6</a>\u001b[0m board \u001b[39m=\u001b[39m test_board\u001b[39m.\u001b[39mcopy()\n\u001b[1;32m      <a href='vscode-notebook-cell:/Users/wesleyyuan/Documents/Fun%20With%20Coding/SudokuSolver/test.ipynb#ch0000002?line=7'>8</a>\u001b[0m start \u001b[39m=\u001b[39m time()\n\u001b[0;32m----> <a href='vscode-notebook-cell:/Users/wesleyyuan/Documents/Fun%20With%20Coding/SudokuSolver/test.ipynb#ch0000002?line=8'>9</a>\u001b[0m solve(method, board)\n\u001b[1;32m     <a href='vscode-notebook-cell:/Users/wesleyyuan/Documents/Fun%20With%20Coding/SudokuSolver/test.ipynb#ch0000002?line=9'>10</a>\u001b[0m times\u001b[39m.\u001b[39mappend(time() \u001b[39m-\u001b[39m start)\n\u001b[1;32m     <a href='vscode-notebook-cell:/Users/wesleyyuan/Documents/Fun%20With%20Coding/SudokuSolver/test.ipynb#ch0000002?line=11'>12</a>\u001b[0m \u001b[39massert\u001b[39;00m check_solve(board)\n",
      "File \u001b[0;32m~/Documents/Fun With Coding/SudokuSolver/solve.py:24\u001b[0m, in \u001b[0;36msolve\u001b[0;34m(method, board)\u001b[0m\n\u001b[1;32m     <a href='file:///Users/wesleyyuan/Documents/Fun%20With%20Coding/SudokuSolver/solve.py?line=20'>21</a>\u001b[0m \u001b[39massert\u001b[39;00m method \u001b[39min\u001b[39;00m SOLVE_METHODS_IMPLEMENTED, \u001b[39m'\u001b[39m\u001b[39mUnknown solve method: \u001b[39m\u001b[39m{}\u001b[39;00m\u001b[39m. Must be in \u001b[39m\u001b[39m{}\u001b[39;00m\u001b[39m'\u001b[39m\u001b[39m.\u001b[39mformat(method, SOLVE_METHODS_IMPLEMENTED)\n\u001b[1;32m     <a href='file:///Users/wesleyyuan/Documents/Fun%20With%20Coding/SudokuSolver/solve.py?line=22'>23</a>\u001b[0m \u001b[39mif\u001b[39;00m method \u001b[39m==\u001b[39m \u001b[39m'\u001b[39m\u001b[39mbacktrack\u001b[39m\u001b[39m'\u001b[39m:\n\u001b[0;32m---> <a href='file:///Users/wesleyyuan/Documents/Fun%20With%20Coding/SudokuSolver/solve.py?line=23'>24</a>\u001b[0m     \u001b[39mreturn\u001b[39;00m backtrack(board)\n\u001b[1;32m     <a href='file:///Users/wesleyyuan/Documents/Fun%20With%20Coding/SudokuSolver/solve.py?line=24'>25</a>\u001b[0m \u001b[39melif\u001b[39;00m method \u001b[39m==\u001b[39m \u001b[39m'\u001b[39m\u001b[39mbacktrack_with_markup\u001b[39m\u001b[39m'\u001b[39m:\n\u001b[1;32m     <a href='file:///Users/wesleyyuan/Documents/Fun%20With%20Coding/SudokuSolver/solve.py?line=25'>26</a>\u001b[0m     candidates \u001b[39m=\u001b[39m find_valid_moves(board)\n",
      "\u001b[0;31mTypeError\u001b[0m: 'module' object is not callable"
     ]
    }
   ],
   "source": [
    "print('| {:^25} | {:^13} |'.format('Method', 'Avg Time'))\n",
    "print('-'*45)\n",
    "for method in SOLVE_METHODS_IMPLEMENTED:\n",
    "    times = []\n",
    "    for _ in range(10):\n",
    "        board = test_board.copy()\n",
    "\n",
    "        start = time()\n",
    "        solve(method, board)\n",
    "        times.append(time() - start)\n",
    "\n",
    "        assert check_solve(board)\n",
    "    print('| {:^25} | {:>10.4f} ms |'.format(method, 1000*np.mean(times)))"
   ]
  },
  {
   "cell_type": "code",
   "execution_count": null,
   "metadata": {},
   "outputs": [],
   "source": []
  }
 ],
 "metadata": {
  "interpreter": {
   "hash": "1cc167b126b20d7f4a938aeb9e4dec04d917a87950e162caa71079bb49a81dcd"
  },
  "kernelspec": {
   "display_name": "Python 3.10.4 ('py10')",
   "language": "python",
   "name": "python3"
  },
  "language_info": {
   "codemirror_mode": {
    "name": "ipython",
    "version": 3
   },
   "file_extension": ".py",
   "mimetype": "text/x-python",
   "name": "python",
   "nbconvert_exporter": "python",
   "pygments_lexer": "ipython3",
   "version": "3.10.4"
  },
  "orig_nbformat": 4
 },
 "nbformat": 4,
 "nbformat_minor": 2
}
