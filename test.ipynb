{
 "cells": [
  {
   "cell_type": "code",
   "execution_count": 1,
   "metadata": {},
   "outputs": [],
   "source": [
    "import numpy as np\n",
    "from time import time\n",
    "\n",
    "from solve import *\n",
    "from solvers.util import *"
   ]
  },
  {
   "cell_type": "code",
   "execution_count": 5,
   "metadata": {},
   "outputs": [
    {
     "name": "stdout",
     "output_type": "stream",
     "text": [
      "8  0  0     0  0  0     0  0  0     \n",
      "0  0  3     6  0  0     0  0  0     \n",
      "0  7  0     0  9  0     2  0  0     \n",
      "\n",
      "0  5  0     0  0  7     0  0  0     \n",
      "0  0  0     0  4  5     7  0  0     \n",
      "0  0  0     1  0  0     0  3  0     \n",
      "\n",
      "0  0  1     0  0  0     0  6  8     \n",
      "0  0  8     5  0  0     0  1  0     \n",
      "0  9  0     0  0  0     4  0  0     \n",
      "\n",
      "\n"
     ]
    }
   ],
   "source": [
    "# test_board = np.array([\n",
    "#     [7, 8, 0,  4, 0, 0,  1, 2, 0],\n",
    "#     [6, 0, 0,  0, 7, 5,  0, 0, 9],\n",
    "#     [0, 0, 0,  6, 0, 1,  0, 7, 8],\n",
    "\n",
    "#     [0, 0, 7,  0, 4, 0,  2, 6, 0],\n",
    "#     [0, 0, 1,  0, 5, 0,  9, 3, 0],\n",
    "#     [9, 0, 4,  0, 6, 0,  0, 0, 5],\n",
    "    \n",
    "#     [0, 7, 0,  3, 0, 0,  0, 1, 2],\n",
    "#     [1, 2, 0,  0, 0, 7,  4, 0, 0],\n",
    "#     [0, 4, 9,  2, 0, 6,  0, 0, 7]\n",
    "# ])\n",
    "\n",
    "test_board = string_to_board('800000000003600000070090200050007000000045700000100030001000068008500010090000400')\n",
    "\n",
    "display_board(test_board)"
   ]
  },
  {
   "cell_type": "code",
   "execution_count": 6,
   "metadata": {},
   "outputs": [],
   "source": [
    "print('| {:^25} | {:^13} |'.format('Method', 'Avg Time'))\n",
    "print('-'*45)\n",
    "for method in SOLVE_METHODS_IMPLEMENTED:\n",
    "    times = []\n",
    "    for _ in range(10):\n",
    "        board = test_board.copy()\n",
    "\n",
    "        start = time()\n",
    "        solve(method, board)\n",
    "        times.append(time() - start)\n",
    "\n",
    "        assert check_solve(board)\n",
    "    print('| {:^25} | {:>10.4f} ms |'.format(method, 1000*np.mean(times)))"
   ]
  },
  {
   "cell_type": "code",
   "execution_count": null,
   "metadata": {},
   "outputs": [],
   "source": []
  }
 ],
 "metadata": {
  "interpreter": {
   "hash": "1cc167b126b20d7f4a938aeb9e4dec04d917a87950e162caa71079bb49a81dcd"
  },
  "kernelspec": {
   "display_name": "Python 3.10.4 ('py10')",
   "language": "python",
   "name": "python3"
  },
  "language_info": {
   "codemirror_mode": {
    "name": "ipython",
    "version": 3
   },
   "file_extension": ".py",
   "mimetype": "text/x-python",
   "name": "python",
   "nbconvert_exporter": "python",
   "pygments_lexer": "ipython3",
   "version": "3.10.4"
  },
  "orig_nbformat": 4
 },
 "nbformat": 4,
 "nbformat_minor": 2
}
